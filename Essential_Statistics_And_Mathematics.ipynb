{
  "nbformat": 4,
  "nbformat_minor": 0,
  "metadata": {
    "colab": {
      "provenance": []
    },
    "kernelspec": {
      "name": "python3",
      "display_name": "Python 3"
    },
    "language_info": {
      "name": "python"
    }
  },
  "cells": [
    {
      "cell_type": "markdown",
      "source": [
        "**Module 7**\n",
        "\n",
        "**[ *DA - Analyzing Data with Python* ]**"
      ],
      "metadata": {
        "id": "r07dnqfTkA7e"
      }
    },
    {
      "cell_type": "markdown",
      "source": [
        "**Numpy**"
      ],
      "metadata": {
        "id": "-BX1v8_ekL5t"
      }
    },
    {
      "cell_type": "markdown",
      "source": [
        "Q.1 Convert a 1D array to a 2D array with 2 rows"
      ],
      "metadata": {
        "id": "QUfIqvIfkP1b"
      }
    },
    {
      "cell_type": "code",
      "source": [
        "import numpy as np\n",
        "\n",
        "# Create a 1D array\n",
        "array1 = np.array([1, 2, 3, 4, 5, 6])\n",
        "\n",
        "# Reshape the 1D array to a 2D array with 2 rows\n",
        "array2 = array1.reshape(2, -1)\n",
        "\n",
        "print(\"Original 1D array:\")\n",
        "print(array1)\n",
        "\n",
        "print(\"Converted 2D array:\")\n",
        "print(array2)"
      ],
      "metadata": {
        "colab": {
          "base_uri": "https://localhost:8080/"
        },
        "id": "a9P_UaSCkQRt",
        "outputId": "51c38351-9412-4897-f745-a2f2da1eb255"
      },
      "execution_count": 4,
      "outputs": [
        {
          "output_type": "stream",
          "name": "stdout",
          "text": [
            "Original 1D array:\n",
            "[1 2 3 4 5 6]\n",
            "Converted 2D array:\n",
            "[[1 2 3]\n",
            " [4 5 6]]\n"
          ]
        }
      ]
    },
    {
      "cell_type": "markdown",
      "source": [
        "Q.2 Get the common items between a and b\n",
        "Input:\n",
        "a = np.array([1,2,3,2,3,4,3,4,5,6])\n",
        "b = np.array([7,2,10,2,7,4,9,4,9,8])"
      ],
      "metadata": {
        "id": "uSNHF-PglBvE"
      }
    },
    {
      "cell_type": "code",
      "source": [
        "import numpy as np\n",
        "\n",
        "#Input arrays\n",
        "a = np.array([1, 2, 3, 2, 3, 4, 3, 4, 5, 6])\n",
        "b = np.array([7, 2, 10, 2, 7, 4, 9, 4, 9, 8])\n",
        "\n",
        "# Common items\n",
        "common_items = np.intersect1d(a,b)\n",
        "\n",
        "print(\"common items between a & b is: \", common_items)"
      ],
      "metadata": {
        "colab": {
          "base_uri": "https://localhost:8080/"
        },
        "id": "84uznRSllFp0",
        "outputId": "0708ff7a-25ee-4029-9b64-8026c942bf1e"
      },
      "execution_count": 5,
      "outputs": [
        {
          "output_type": "stream",
          "name": "stdout",
          "text": [
            "common items between a & b is:  [2 4]\n"
          ]
        }
      ]
    },
    {
      "cell_type": "markdown",
      "source": [
        "Q.3 Get all items between 5 and 10 from a.\n",
        "Input:\n",
        "a = np.array([2, 6, 1, 9, 10, 3, 27])"
      ],
      "metadata": {
        "id": "Nl1UGdBLmH_j"
      }
    },
    {
      "cell_type": "code",
      "source": [
        "import numpy as np\n",
        "\n",
        "a = np.array([2, 6, 1, 9, 10, 3, 27])\n",
        "\n",
        "result = a[(a>=5) & (a <= 10)]\n",
        "\n",
        "print(\"Items between 5 and 10 are: \", result)"
      ],
      "metadata": {
        "colab": {
          "base_uri": "https://localhost:8080/"
        },
        "id": "2xqSz9uQmJOR",
        "outputId": "02493caf-568e-4624-a287-7aadfed0d1ee"
      },
      "execution_count": 7,
      "outputs": [
        {
          "output_type": "stream",
          "name": "stdout",
          "text": [
            "Items between 5 and 10 are:  [ 6  9 10]\n"
          ]
        }
      ]
    },
    {
      "cell_type": "markdown",
      "source": [
        "Q.4 Limit the number of items printed in python NumPy array a to a maximum of 6\n",
        "elements.\n",
        "Input:\n",
        "array([ 0, 1, 2, 3, 4, 5, 6, 7, 8, 9, 10, 11, 12, 13, 14])"
      ],
      "metadata": {
        "id": "Kfk7MLJJm3-W"
      }
    },
    {
      "cell_type": "code",
      "source": [
        "import numpy as np\n",
        "\n",
        "# Input array\n",
        "a = np.array([0, 1, 2, 3, 4, 5, 6, 7, 8, 9, 10, 11, 12, 13, 14])\n",
        "\n",
        "# Limit the number\n",
        "np.set_printoptions(threshold=6)\n",
        "\n",
        "print(\"Limited output of the array: \", a)"
      ],
      "metadata": {
        "colab": {
          "base_uri": "https://localhost:8080/"
        },
        "id": "fxTo8844m8ZH",
        "outputId": "d1ea7b30-515d-4f88-a519-6c5ebf776044"
      },
      "execution_count": 8,
      "outputs": [
        {
          "output_type": "stream",
          "name": "stdout",
          "text": [
            "Limited output of the array:  [ 0  1  2 ... 12 13 14]\n"
          ]
        }
      ]
    },
    {
      "cell_type": "markdown",
      "source": [
        "**Pandas**"
      ],
      "metadata": {
        "id": "StgP3ff4nXhb"
      }
    },
    {
      "cell_type": "markdown",
      "source": [
        "1. Compute the minimum, 25th percentile, median, 75th, and maximum of ser."
      ],
      "metadata": {
        "id": "GD5ou52tn4J-"
      }
    },
    {
      "cell_type": "code",
      "source": [
        "import pandas as pd\n",
        "\n",
        "# Let Ex of Pandas Series\n",
        "series = pd.Series([10, 20, 15, 40, 25, 50, 30, 35])\n",
        "\n",
        "# Compute\n",
        "stats = {\n",
        "    \"Minimum\": series.min(),\n",
        "    \"25th Percentile\": series.quantile(0.25),\n",
        "    \"Median\": series.median(),\n",
        "    \"75th Percentile\": series.quantile(0.75),\n",
        "    \"Maximum\": series.max()\n",
        "}\n",
        "\n",
        "# View results\n",
        "for key, value in stats.items():\n",
        "    print(f\"{key}: {value}\")"
      ],
      "metadata": {
        "colab": {
          "base_uri": "https://localhost:8080/"
        },
        "id": "uK6pZUpfn6Os",
        "outputId": "8414eae6-3bb6-4902-9872-97da116f591d"
      },
      "execution_count": 12,
      "outputs": [
        {
          "output_type": "stream",
          "name": "stdout",
          "text": [
            "Minimum: 10\n",
            "25th Percentile: 18.75\n",
            "Median: 27.5\n",
            "75th Percentile: 36.25\n",
            "Maximum: 50\n"
          ]
        }
      ]
    },
    {
      "cell_type": "markdown",
      "source": [
        "2. Creating A Pandas Data Frame and Using Sample Data Sets"
      ],
      "metadata": {
        "id": "6CvB5STOpqPI"
      }
    },
    {
      "cell_type": "code",
      "source": [
        "import pandas as pd\n",
        "\n",
        "# Creating a DataFrame from a dictionary\n",
        "data = {\n",
        "    'Name': ['Alice', 'Bob', 'Charlie', 'David'],\n",
        "    'Age': [25, 30, 35, 40],\n",
        "    'City': ['New York', 'Los Angeles', 'Chicago', 'Houston']\n",
        "}\n",
        "\n",
        "df = pd.DataFrame(data)\n",
        "print(df)"
      ],
      "metadata": {
        "colab": {
          "base_uri": "https://localhost:8080/"
        },
        "id": "HxBxP9qIprFb",
        "outputId": "00719fdd-93c3-435c-c2a6-ae7628a73983"
      },
      "execution_count": 13,
      "outputs": [
        {
          "output_type": "stream",
          "name": "stdout",
          "text": [
            "      Name  Age         City\n",
            "0    Alice   25     New York\n",
            "1      Bob   30  Los Angeles\n",
            "2  Charlie   35      Chicago\n",
            "3    David   40      Houston\n"
          ]
        }
      ]
    },
    {
      "cell_type": "markdown",
      "source": [
        "3. Using NumPy, create a Pandas Data Frame with five rows and three columns."
      ],
      "metadata": {
        "id": "K1BBJNg4qG8K"
      }
    },
    {
      "cell_type": "code",
      "source": [
        "import numpy as np\n",
        "import pandas as pd\n",
        "\n",
        "# NumPy array with random values (5 rows, 3 columns)\n",
        "data = np.random.rand(5, 3)\n",
        "\n",
        "# Create a Pandas DataFrame with column names\n",
        "df = pd.DataFrame(data, columns=['Column1', 'Column2', 'Column3'])\n",
        "\n",
        "print(df)"
      ],
      "metadata": {
        "colab": {
          "base_uri": "https://localhost:8080/"
        },
        "id": "R-LvhE7pqHkn",
        "outputId": "87a5b384-7def-4172-c870-856ac5d7f7b3"
      },
      "execution_count": 14,
      "outputs": [
        {
          "output_type": "stream",
          "name": "stdout",
          "text": [
            "    Column1   Column2   Column3\n",
            "0  0.500140  0.363815  0.403025\n",
            "1  0.799881  0.771626  0.213422\n",
            "2  0.887656  0.863338  0.627037\n",
            "3  0.134268  0.525107  0.819602\n",
            "4  0.287999  0.693122  0.057270\n"
          ]
        }
      ]
    },
    {
      "cell_type": "code",
      "source": [
        "# Create a NumPy array with specific values\n",
        "data = np.array([\n",
        "    [1, 2, 3],\n",
        "    [4, 5, 6],\n",
        "    [7, 8, 9],\n",
        "    [10, 11, 12],\n",
        "    [13, 14, 15]\n",
        "])\n",
        "\n",
        "# Create a DataFrame\n",
        "df = pd.DataFrame(data, columns=['A', 'B', 'C'])\n",
        "\n",
        "print(df)"
      ],
      "metadata": {
        "colab": {
          "base_uri": "https://localhost:8080/"
        },
        "id": "RYi_k5xQqQSp",
        "outputId": "8398c3de-bb4b-4b64-f99c-d22ff3dd6396"
      },
      "execution_count": 15,
      "outputs": [
        {
          "output_type": "stream",
          "name": "stdout",
          "text": [
            "    A   B   C\n",
            "0   1   2   3\n",
            "1   4   5   6\n",
            "2   7   8   9\n",
            "3  10  11  12\n",
            "4  13  14  15\n"
          ]
        }
      ]
    },
    {
      "cell_type": "markdown",
      "source": [
        "4. For a Pandas Data Frame created from a NumPy array, what is the default behavior for\n",
        "the labels for the columns? For the rows?"
      ],
      "metadata": {
        "id": "xbao0e-Fqi_f"
      }
    },
    {
      "cell_type": "code",
      "source": [
        "# Default Labels\n",
        "\n",
        "import numpy as np\n",
        "import pandas as pd\n",
        "\n",
        "# Create a NumPy array\n",
        "data = np.array([[1, 2, 3], [4, 5, 6], [7, 8, 9]])\n",
        "\n",
        "# Create a DataFrame from the NumPy array without specifying labels\n",
        "df = pd.DataFrame(data)\n",
        "\n",
        "print(df)"
      ],
      "metadata": {
        "colab": {
          "base_uri": "https://localhost:8080/"
        },
        "id": "fMuPe5epqjlE",
        "outputId": "d09a7a3c-3b15-466c-8d27-e3e6342d7e93"
      },
      "execution_count": 16,
      "outputs": [
        {
          "output_type": "stream",
          "name": "stdout",
          "text": [
            "   0  1  2\n",
            "0  1  2  3\n",
            "1  4  5  6\n",
            "2  7  8  9\n"
          ]
        }
      ]
    },
    {
      "cell_type": "code",
      "source": [
        "# Custom labels for rows and columns\n",
        "df = pd.DataFrame(data, index=['Row1', 'Row2', 'Row3'], columns=['A', 'B', 'C'])\n",
        "\n",
        "print(df)"
      ],
      "metadata": {
        "colab": {
          "base_uri": "https://localhost:8080/"
        },
        "id": "RoOor2imrc7e",
        "outputId": "b5c3ccb9-1b4c-4563-80ba-b5a6caedb550"
      },
      "execution_count": 17,
      "outputs": [
        {
          "output_type": "stream",
          "name": "stdout",
          "text": [
            "      A  B  C\n",
            "Row1  1  2  3\n",
            "Row2  4  5  6\n",
            "Row3  7  8  9\n"
          ]
        }
      ]
    },
    {
      "cell_type": "markdown",
      "source": [
        "By default, both row and column labels are zero-based integers."
      ],
      "metadata": {
        "id": "88C7LfZz6IR0"
      }
    },
    {
      "cell_type": "markdown",
      "source": [
        "5. take csv file contains at least 10,000 rows and 12 columns which numerical and text values\n",
        "according to that continue following steps."
      ],
      "metadata": {
        "id": "th9otBfLrxbm"
      }
    },
    {
      "cell_type": "code",
      "source": [
        "import pandas as pd\n",
        "\n",
        "from google.colab import files #for upload files from your machine or use import drive for upload files from drive\n",
        "uploded = files.upload()"
      ],
      "metadata": {
        "colab": {
          "base_uri": "https://localhost:8080/",
          "height": 73
        },
        "id": "ASMezB08r24a",
        "outputId": "1bf2d538-3b1b-432f-8f51-b0d8c1c43212"
      },
      "execution_count": 23,
      "outputs": [
        {
          "output_type": "display_data",
          "data": {
            "text/plain": [
              "<IPython.core.display.HTML object>"
            ],
            "text/html": [
              "\n",
              "     <input type=\"file\" id=\"files-ff1b0a6c-c873-496a-bdf3-e34067ad814b\" name=\"files[]\" multiple disabled\n",
              "        style=\"border:none\" />\n",
              "     <output id=\"result-ff1b0a6c-c873-496a-bdf3-e34067ad814b\">\n",
              "      Upload widget is only available when the cell has been executed in the\n",
              "      current browser session. Please rerun this cell to enable.\n",
              "      </output>\n",
              "      <script>// Copyright 2017 Google LLC\n",
              "//\n",
              "// Licensed under the Apache License, Version 2.0 (the \"License\");\n",
              "// you may not use this file except in compliance with the License.\n",
              "// You may obtain a copy of the License at\n",
              "//\n",
              "//      http://www.apache.org/licenses/LICENSE-2.0\n",
              "//\n",
              "// Unless required by applicable law or agreed to in writing, software\n",
              "// distributed under the License is distributed on an \"AS IS\" BASIS,\n",
              "// WITHOUT WARRANTIES OR CONDITIONS OF ANY KIND, either express or implied.\n",
              "// See the License for the specific language governing permissions and\n",
              "// limitations under the License.\n",
              "\n",
              "/**\n",
              " * @fileoverview Helpers for google.colab Python module.\n",
              " */\n",
              "(function(scope) {\n",
              "function span(text, styleAttributes = {}) {\n",
              "  const element = document.createElement('span');\n",
              "  element.textContent = text;\n",
              "  for (const key of Object.keys(styleAttributes)) {\n",
              "    element.style[key] = styleAttributes[key];\n",
              "  }\n",
              "  return element;\n",
              "}\n",
              "\n",
              "// Max number of bytes which will be uploaded at a time.\n",
              "const MAX_PAYLOAD_SIZE = 100 * 1024;\n",
              "\n",
              "function _uploadFiles(inputId, outputId) {\n",
              "  const steps = uploadFilesStep(inputId, outputId);\n",
              "  const outputElement = document.getElementById(outputId);\n",
              "  // Cache steps on the outputElement to make it available for the next call\n",
              "  // to uploadFilesContinue from Python.\n",
              "  outputElement.steps = steps;\n",
              "\n",
              "  return _uploadFilesContinue(outputId);\n",
              "}\n",
              "\n",
              "// This is roughly an async generator (not supported in the browser yet),\n",
              "// where there are multiple asynchronous steps and the Python side is going\n",
              "// to poll for completion of each step.\n",
              "// This uses a Promise to block the python side on completion of each step,\n",
              "// then passes the result of the previous step as the input to the next step.\n",
              "function _uploadFilesContinue(outputId) {\n",
              "  const outputElement = document.getElementById(outputId);\n",
              "  const steps = outputElement.steps;\n",
              "\n",
              "  const next = steps.next(outputElement.lastPromiseValue);\n",
              "  return Promise.resolve(next.value.promise).then((value) => {\n",
              "    // Cache the last promise value to make it available to the next\n",
              "    // step of the generator.\n",
              "    outputElement.lastPromiseValue = value;\n",
              "    return next.value.response;\n",
              "  });\n",
              "}\n",
              "\n",
              "/**\n",
              " * Generator function which is called between each async step of the upload\n",
              " * process.\n",
              " * @param {string} inputId Element ID of the input file picker element.\n",
              " * @param {string} outputId Element ID of the output display.\n",
              " * @return {!Iterable<!Object>} Iterable of next steps.\n",
              " */\n",
              "function* uploadFilesStep(inputId, outputId) {\n",
              "  const inputElement = document.getElementById(inputId);\n",
              "  inputElement.disabled = false;\n",
              "\n",
              "  const outputElement = document.getElementById(outputId);\n",
              "  outputElement.innerHTML = '';\n",
              "\n",
              "  const pickedPromise = new Promise((resolve) => {\n",
              "    inputElement.addEventListener('change', (e) => {\n",
              "      resolve(e.target.files);\n",
              "    });\n",
              "  });\n",
              "\n",
              "  const cancel = document.createElement('button');\n",
              "  inputElement.parentElement.appendChild(cancel);\n",
              "  cancel.textContent = 'Cancel upload';\n",
              "  const cancelPromise = new Promise((resolve) => {\n",
              "    cancel.onclick = () => {\n",
              "      resolve(null);\n",
              "    };\n",
              "  });\n",
              "\n",
              "  // Wait for the user to pick the files.\n",
              "  const files = yield {\n",
              "    promise: Promise.race([pickedPromise, cancelPromise]),\n",
              "    response: {\n",
              "      action: 'starting',\n",
              "    }\n",
              "  };\n",
              "\n",
              "  cancel.remove();\n",
              "\n",
              "  // Disable the input element since further picks are not allowed.\n",
              "  inputElement.disabled = true;\n",
              "\n",
              "  if (!files) {\n",
              "    return {\n",
              "      response: {\n",
              "        action: 'complete',\n",
              "      }\n",
              "    };\n",
              "  }\n",
              "\n",
              "  for (const file of files) {\n",
              "    const li = document.createElement('li');\n",
              "    li.append(span(file.name, {fontWeight: 'bold'}));\n",
              "    li.append(span(\n",
              "        `(${file.type || 'n/a'}) - ${file.size} bytes, ` +\n",
              "        `last modified: ${\n",
              "            file.lastModifiedDate ? file.lastModifiedDate.toLocaleDateString() :\n",
              "                                    'n/a'} - `));\n",
              "    const percent = span('0% done');\n",
              "    li.appendChild(percent);\n",
              "\n",
              "    outputElement.appendChild(li);\n",
              "\n",
              "    const fileDataPromise = new Promise((resolve) => {\n",
              "      const reader = new FileReader();\n",
              "      reader.onload = (e) => {\n",
              "        resolve(e.target.result);\n",
              "      };\n",
              "      reader.readAsArrayBuffer(file);\n",
              "    });\n",
              "    // Wait for the data to be ready.\n",
              "    let fileData = yield {\n",
              "      promise: fileDataPromise,\n",
              "      response: {\n",
              "        action: 'continue',\n",
              "      }\n",
              "    };\n",
              "\n",
              "    // Use a chunked sending to avoid message size limits. See b/62115660.\n",
              "    let position = 0;\n",
              "    do {\n",
              "      const length = Math.min(fileData.byteLength - position, MAX_PAYLOAD_SIZE);\n",
              "      const chunk = new Uint8Array(fileData, position, length);\n",
              "      position += length;\n",
              "\n",
              "      const base64 = btoa(String.fromCharCode.apply(null, chunk));\n",
              "      yield {\n",
              "        response: {\n",
              "          action: 'append',\n",
              "          file: file.name,\n",
              "          data: base64,\n",
              "        },\n",
              "      };\n",
              "\n",
              "      let percentDone = fileData.byteLength === 0 ?\n",
              "          100 :\n",
              "          Math.round((position / fileData.byteLength) * 100);\n",
              "      percent.textContent = `${percentDone}% done`;\n",
              "\n",
              "    } while (position < fileData.byteLength);\n",
              "  }\n",
              "\n",
              "  // All done.\n",
              "  yield {\n",
              "    response: {\n",
              "      action: 'complete',\n",
              "    }\n",
              "  };\n",
              "}\n",
              "\n",
              "scope.google = scope.google || {};\n",
              "scope.google.colab = scope.google.colab || {};\n",
              "scope.google.colab._files = {\n",
              "  _uploadFiles,\n",
              "  _uploadFilesContinue,\n",
              "};\n",
              "})(self);\n",
              "</script> "
            ]
          },
          "metadata": {}
        },
        {
          "output_type": "stream",
          "name": "stdout",
          "text": [
            "Saving annual-enterprise-survey-2023-financial-year-provisional.csv to annual-enterprise-survey-2023-financial-year-provisional.csv\n"
          ]
        }
      ]
    },
    {
      "cell_type": "code",
      "source": [
        "Data1 =  pd.read_csv(\"annual-enterprise-survey-2023-financial-year-provisional.csv\")"
      ],
      "metadata": {
        "id": "QRpinwS3ubCQ"
      },
      "execution_count": 24,
      "outputs": []
    },
    {
      "cell_type": "code",
      "source": [
        "Data1"
      ],
      "metadata": {
        "colab": {
          "base_uri": "https://localhost:8080/",
          "height": 687
        },
        "id": "dJaj7EqCxIAB",
        "outputId": "cb787cab-c0b0-4584-bab5-459b9c012e74"
      },
      "execution_count": 27,
      "outputs": [
        {
          "output_type": "execute_result",
          "data": {
            "text/plain": [
              "       Year Industry_aggregation_NZSIOC Industry_code_NZSIOC  \\\n",
              "0      2023                     Level 1                99999   \n",
              "1      2023                     Level 1                99999   \n",
              "2      2023                     Level 1                99999   \n",
              "3      2023                     Level 1                99999   \n",
              "4      2023                     Level 1                99999   \n",
              "...     ...                         ...                  ...   \n",
              "50980  2013                     Level 3                 ZZ11   \n",
              "50981  2013                     Level 3                 ZZ11   \n",
              "50982  2013                     Level 3                 ZZ11   \n",
              "50983  2013                     Level 3                 ZZ11   \n",
              "50984  2013                     Level 3                 ZZ11   \n",
              "\n",
              "             Industry_name_NZSIOC               Units Variable_code  \\\n",
              "0                  All industries  Dollars (millions)           H01   \n",
              "1                  All industries  Dollars (millions)           H04   \n",
              "2                  All industries  Dollars (millions)           H05   \n",
              "3                  All industries  Dollars (millions)           H07   \n",
              "4                  All industries  Dollars (millions)           H08   \n",
              "...                           ...                 ...           ...   \n",
              "50980  Food product manufacturing          Percentage           H37   \n",
              "50981  Food product manufacturing          Percentage           H38   \n",
              "50982  Food product manufacturing          Percentage           H39   \n",
              "50983  Food product manufacturing          Percentage           H40   \n",
              "50984  Food product manufacturing          Percentage           H41   \n",
              "\n",
              "                                         Variable_name      Variable_category  \\\n",
              "0                                         Total income  Financial performance   \n",
              "1      Sales, government funding, grants and subsidies  Financial performance   \n",
              "2                    Interest, dividends and donations  Financial performance   \n",
              "3                                 Non-operating income  Financial performance   \n",
              "4                                    Total expenditure  Financial performance   \n",
              "...                                                ...                    ...   \n",
              "50980                                      Quick ratio       Financial ratios   \n",
              "50981              Margin on sales of goods for resale       Financial ratios   \n",
              "50982                                 Return on equity       Financial ratios   \n",
              "50983                           Return on total assets       Financial ratios   \n",
              "50984                            Liabilities structure       Financial ratios   \n",
              "\n",
              "        Value                             Industry_code_ANZSIC06  \n",
              "0      930995  ANZSIC06 divisions A-S (excluding classes K633...  \n",
              "1      821630  ANZSIC06 divisions A-S (excluding classes K633...  \n",
              "2       84354  ANZSIC06 divisions A-S (excluding classes K633...  \n",
              "3       25010  ANZSIC06 divisions A-S (excluding classes K633...  \n",
              "4      832964  ANZSIC06 divisions A-S (excluding classes K633...  \n",
              "...       ...                                                ...  \n",
              "50980      52  ANZSIC06 groups C111, C112, C113, C114, C115, ...  \n",
              "50981      40  ANZSIC06 groups C111, C112, C113, C114, C115, ...  \n",
              "50982      12  ANZSIC06 groups C111, C112, C113, C114, C115, ...  \n",
              "50983       5  ANZSIC06 groups C111, C112, C113, C114, C115, ...  \n",
              "50984      46  ANZSIC06 groups C111, C112, C113, C114, C115, ...  \n",
              "\n",
              "[50985 rows x 10 columns]"
            ],
            "text/html": [
              "\n",
              "  <div id=\"df-77c77529-2b77-4dd3-a76c-e5f8695193da\" class=\"colab-df-container\">\n",
              "    <div>\n",
              "<style scoped>\n",
              "    .dataframe tbody tr th:only-of-type {\n",
              "        vertical-align: middle;\n",
              "    }\n",
              "\n",
              "    .dataframe tbody tr th {\n",
              "        vertical-align: top;\n",
              "    }\n",
              "\n",
              "    .dataframe thead th {\n",
              "        text-align: right;\n",
              "    }\n",
              "</style>\n",
              "<table border=\"1\" class=\"dataframe\">\n",
              "  <thead>\n",
              "    <tr style=\"text-align: right;\">\n",
              "      <th></th>\n",
              "      <th>Year</th>\n",
              "      <th>Industry_aggregation_NZSIOC</th>\n",
              "      <th>Industry_code_NZSIOC</th>\n",
              "      <th>Industry_name_NZSIOC</th>\n",
              "      <th>Units</th>\n",
              "      <th>Variable_code</th>\n",
              "      <th>Variable_name</th>\n",
              "      <th>Variable_category</th>\n",
              "      <th>Value</th>\n",
              "      <th>Industry_code_ANZSIC06</th>\n",
              "    </tr>\n",
              "  </thead>\n",
              "  <tbody>\n",
              "    <tr>\n",
              "      <th>0</th>\n",
              "      <td>2023</td>\n",
              "      <td>Level 1</td>\n",
              "      <td>99999</td>\n",
              "      <td>All industries</td>\n",
              "      <td>Dollars (millions)</td>\n",
              "      <td>H01</td>\n",
              "      <td>Total income</td>\n",
              "      <td>Financial performance</td>\n",
              "      <td>930995</td>\n",
              "      <td>ANZSIC06 divisions A-S (excluding classes K633...</td>\n",
              "    </tr>\n",
              "    <tr>\n",
              "      <th>1</th>\n",
              "      <td>2023</td>\n",
              "      <td>Level 1</td>\n",
              "      <td>99999</td>\n",
              "      <td>All industries</td>\n",
              "      <td>Dollars (millions)</td>\n",
              "      <td>H04</td>\n",
              "      <td>Sales, government funding, grants and subsidies</td>\n",
              "      <td>Financial performance</td>\n",
              "      <td>821630</td>\n",
              "      <td>ANZSIC06 divisions A-S (excluding classes K633...</td>\n",
              "    </tr>\n",
              "    <tr>\n",
              "      <th>2</th>\n",
              "      <td>2023</td>\n",
              "      <td>Level 1</td>\n",
              "      <td>99999</td>\n",
              "      <td>All industries</td>\n",
              "      <td>Dollars (millions)</td>\n",
              "      <td>H05</td>\n",
              "      <td>Interest, dividends and donations</td>\n",
              "      <td>Financial performance</td>\n",
              "      <td>84354</td>\n",
              "      <td>ANZSIC06 divisions A-S (excluding classes K633...</td>\n",
              "    </tr>\n",
              "    <tr>\n",
              "      <th>3</th>\n",
              "      <td>2023</td>\n",
              "      <td>Level 1</td>\n",
              "      <td>99999</td>\n",
              "      <td>All industries</td>\n",
              "      <td>Dollars (millions)</td>\n",
              "      <td>H07</td>\n",
              "      <td>Non-operating income</td>\n",
              "      <td>Financial performance</td>\n",
              "      <td>25010</td>\n",
              "      <td>ANZSIC06 divisions A-S (excluding classes K633...</td>\n",
              "    </tr>\n",
              "    <tr>\n",
              "      <th>4</th>\n",
              "      <td>2023</td>\n",
              "      <td>Level 1</td>\n",
              "      <td>99999</td>\n",
              "      <td>All industries</td>\n",
              "      <td>Dollars (millions)</td>\n",
              "      <td>H08</td>\n",
              "      <td>Total expenditure</td>\n",
              "      <td>Financial performance</td>\n",
              "      <td>832964</td>\n",
              "      <td>ANZSIC06 divisions A-S (excluding classes K633...</td>\n",
              "    </tr>\n",
              "    <tr>\n",
              "      <th>...</th>\n",
              "      <td>...</td>\n",
              "      <td>...</td>\n",
              "      <td>...</td>\n",
              "      <td>...</td>\n",
              "      <td>...</td>\n",
              "      <td>...</td>\n",
              "      <td>...</td>\n",
              "      <td>...</td>\n",
              "      <td>...</td>\n",
              "      <td>...</td>\n",
              "    </tr>\n",
              "    <tr>\n",
              "      <th>50980</th>\n",
              "      <td>2013</td>\n",
              "      <td>Level 3</td>\n",
              "      <td>ZZ11</td>\n",
              "      <td>Food product manufacturing</td>\n",
              "      <td>Percentage</td>\n",
              "      <td>H37</td>\n",
              "      <td>Quick ratio</td>\n",
              "      <td>Financial ratios</td>\n",
              "      <td>52</td>\n",
              "      <td>ANZSIC06 groups C111, C112, C113, C114, C115, ...</td>\n",
              "    </tr>\n",
              "    <tr>\n",
              "      <th>50981</th>\n",
              "      <td>2013</td>\n",
              "      <td>Level 3</td>\n",
              "      <td>ZZ11</td>\n",
              "      <td>Food product manufacturing</td>\n",
              "      <td>Percentage</td>\n",
              "      <td>H38</td>\n",
              "      <td>Margin on sales of goods for resale</td>\n",
              "      <td>Financial ratios</td>\n",
              "      <td>40</td>\n",
              "      <td>ANZSIC06 groups C111, C112, C113, C114, C115, ...</td>\n",
              "    </tr>\n",
              "    <tr>\n",
              "      <th>50982</th>\n",
              "      <td>2013</td>\n",
              "      <td>Level 3</td>\n",
              "      <td>ZZ11</td>\n",
              "      <td>Food product manufacturing</td>\n",
              "      <td>Percentage</td>\n",
              "      <td>H39</td>\n",
              "      <td>Return on equity</td>\n",
              "      <td>Financial ratios</td>\n",
              "      <td>12</td>\n",
              "      <td>ANZSIC06 groups C111, C112, C113, C114, C115, ...</td>\n",
              "    </tr>\n",
              "    <tr>\n",
              "      <th>50983</th>\n",
              "      <td>2013</td>\n",
              "      <td>Level 3</td>\n",
              "      <td>ZZ11</td>\n",
              "      <td>Food product manufacturing</td>\n",
              "      <td>Percentage</td>\n",
              "      <td>H40</td>\n",
              "      <td>Return on total assets</td>\n",
              "      <td>Financial ratios</td>\n",
              "      <td>5</td>\n",
              "      <td>ANZSIC06 groups C111, C112, C113, C114, C115, ...</td>\n",
              "    </tr>\n",
              "    <tr>\n",
              "      <th>50984</th>\n",
              "      <td>2013</td>\n",
              "      <td>Level 3</td>\n",
              "      <td>ZZ11</td>\n",
              "      <td>Food product manufacturing</td>\n",
              "      <td>Percentage</td>\n",
              "      <td>H41</td>\n",
              "      <td>Liabilities structure</td>\n",
              "      <td>Financial ratios</td>\n",
              "      <td>46</td>\n",
              "      <td>ANZSIC06 groups C111, C112, C113, C114, C115, ...</td>\n",
              "    </tr>\n",
              "  </tbody>\n",
              "</table>\n",
              "<p>50985 rows × 10 columns</p>\n",
              "</div>\n",
              "    <div class=\"colab-df-buttons\">\n",
              "\n",
              "  <div class=\"colab-df-container\">\n",
              "    <button class=\"colab-df-convert\" onclick=\"convertToInteractive('df-77c77529-2b77-4dd3-a76c-e5f8695193da')\"\n",
              "            title=\"Convert this dataframe to an interactive table.\"\n",
              "            style=\"display:none;\">\n",
              "\n",
              "  <svg xmlns=\"http://www.w3.org/2000/svg\" height=\"24px\" viewBox=\"0 -960 960 960\">\n",
              "    <path d=\"M120-120v-720h720v720H120Zm60-500h600v-160H180v160Zm220 220h160v-160H400v160Zm0 220h160v-160H400v160ZM180-400h160v-160H180v160Zm440 0h160v-160H620v160ZM180-180h160v-160H180v160Zm440 0h160v-160H620v160Z\"/>\n",
              "  </svg>\n",
              "    </button>\n",
              "\n",
              "  <style>\n",
              "    .colab-df-container {\n",
              "      display:flex;\n",
              "      gap: 12px;\n",
              "    }\n",
              "\n",
              "    .colab-df-convert {\n",
              "      background-color: #E8F0FE;\n",
              "      border: none;\n",
              "      border-radius: 50%;\n",
              "      cursor: pointer;\n",
              "      display: none;\n",
              "      fill: #1967D2;\n",
              "      height: 32px;\n",
              "      padding: 0 0 0 0;\n",
              "      width: 32px;\n",
              "    }\n",
              "\n",
              "    .colab-df-convert:hover {\n",
              "      background-color: #E2EBFA;\n",
              "      box-shadow: 0px 1px 2px rgba(60, 64, 67, 0.3), 0px 1px 3px 1px rgba(60, 64, 67, 0.15);\n",
              "      fill: #174EA6;\n",
              "    }\n",
              "\n",
              "    .colab-df-buttons div {\n",
              "      margin-bottom: 4px;\n",
              "    }\n",
              "\n",
              "    [theme=dark] .colab-df-convert {\n",
              "      background-color: #3B4455;\n",
              "      fill: #D2E3FC;\n",
              "    }\n",
              "\n",
              "    [theme=dark] .colab-df-convert:hover {\n",
              "      background-color: #434B5C;\n",
              "      box-shadow: 0px 1px 3px 1px rgba(0, 0, 0, 0.15);\n",
              "      filter: drop-shadow(0px 1px 2px rgba(0, 0, 0, 0.3));\n",
              "      fill: #FFFFFF;\n",
              "    }\n",
              "  </style>\n",
              "\n",
              "    <script>\n",
              "      const buttonEl =\n",
              "        document.querySelector('#df-77c77529-2b77-4dd3-a76c-e5f8695193da button.colab-df-convert');\n",
              "      buttonEl.style.display =\n",
              "        google.colab.kernel.accessAllowed ? 'block' : 'none';\n",
              "\n",
              "      async function convertToInteractive(key) {\n",
              "        const element = document.querySelector('#df-77c77529-2b77-4dd3-a76c-e5f8695193da');\n",
              "        const dataTable =\n",
              "          await google.colab.kernel.invokeFunction('convertToInteractive',\n",
              "                                                    [key], {});\n",
              "        if (!dataTable) return;\n",
              "\n",
              "        const docLinkHtml = 'Like what you see? Visit the ' +\n",
              "          '<a target=\"_blank\" href=https://colab.research.google.com/notebooks/data_table.ipynb>data table notebook</a>'\n",
              "          + ' to learn more about interactive tables.';\n",
              "        element.innerHTML = '';\n",
              "        dataTable['output_type'] = 'display_data';\n",
              "        await google.colab.output.renderOutput(dataTable, element);\n",
              "        const docLink = document.createElement('div');\n",
              "        docLink.innerHTML = docLinkHtml;\n",
              "        element.appendChild(docLink);\n",
              "      }\n",
              "    </script>\n",
              "  </div>\n",
              "\n",
              "\n",
              "<div id=\"df-96645194-e07b-4300-8c6d-33064a620cd9\">\n",
              "  <button class=\"colab-df-quickchart\" onclick=\"quickchart('df-96645194-e07b-4300-8c6d-33064a620cd9')\"\n",
              "            title=\"Suggest charts\"\n",
              "            style=\"display:none;\">\n",
              "\n",
              "<svg xmlns=\"http://www.w3.org/2000/svg\" height=\"24px\"viewBox=\"0 0 24 24\"\n",
              "     width=\"24px\">\n",
              "    <g>\n",
              "        <path d=\"M19 3H5c-1.1 0-2 .9-2 2v14c0 1.1.9 2 2 2h14c1.1 0 2-.9 2-2V5c0-1.1-.9-2-2-2zM9 17H7v-7h2v7zm4 0h-2V7h2v10zm4 0h-2v-4h2v4z\"/>\n",
              "    </g>\n",
              "</svg>\n",
              "  </button>\n",
              "\n",
              "<style>\n",
              "  .colab-df-quickchart {\n",
              "      --bg-color: #E8F0FE;\n",
              "      --fill-color: #1967D2;\n",
              "      --hover-bg-color: #E2EBFA;\n",
              "      --hover-fill-color: #174EA6;\n",
              "      --disabled-fill-color: #AAA;\n",
              "      --disabled-bg-color: #DDD;\n",
              "  }\n",
              "\n",
              "  [theme=dark] .colab-df-quickchart {\n",
              "      --bg-color: #3B4455;\n",
              "      --fill-color: #D2E3FC;\n",
              "      --hover-bg-color: #434B5C;\n",
              "      --hover-fill-color: #FFFFFF;\n",
              "      --disabled-bg-color: #3B4455;\n",
              "      --disabled-fill-color: #666;\n",
              "  }\n",
              "\n",
              "  .colab-df-quickchart {\n",
              "    background-color: var(--bg-color);\n",
              "    border: none;\n",
              "    border-radius: 50%;\n",
              "    cursor: pointer;\n",
              "    display: none;\n",
              "    fill: var(--fill-color);\n",
              "    height: 32px;\n",
              "    padding: 0;\n",
              "    width: 32px;\n",
              "  }\n",
              "\n",
              "  .colab-df-quickchart:hover {\n",
              "    background-color: var(--hover-bg-color);\n",
              "    box-shadow: 0 1px 2px rgba(60, 64, 67, 0.3), 0 1px 3px 1px rgba(60, 64, 67, 0.15);\n",
              "    fill: var(--button-hover-fill-color);\n",
              "  }\n",
              "\n",
              "  .colab-df-quickchart-complete:disabled,\n",
              "  .colab-df-quickchart-complete:disabled:hover {\n",
              "    background-color: var(--disabled-bg-color);\n",
              "    fill: var(--disabled-fill-color);\n",
              "    box-shadow: none;\n",
              "  }\n",
              "\n",
              "  .colab-df-spinner {\n",
              "    border: 2px solid var(--fill-color);\n",
              "    border-color: transparent;\n",
              "    border-bottom-color: var(--fill-color);\n",
              "    animation:\n",
              "      spin 1s steps(1) infinite;\n",
              "  }\n",
              "\n",
              "  @keyframes spin {\n",
              "    0% {\n",
              "      border-color: transparent;\n",
              "      border-bottom-color: var(--fill-color);\n",
              "      border-left-color: var(--fill-color);\n",
              "    }\n",
              "    20% {\n",
              "      border-color: transparent;\n",
              "      border-left-color: var(--fill-color);\n",
              "      border-top-color: var(--fill-color);\n",
              "    }\n",
              "    30% {\n",
              "      border-color: transparent;\n",
              "      border-left-color: var(--fill-color);\n",
              "      border-top-color: var(--fill-color);\n",
              "      border-right-color: var(--fill-color);\n",
              "    }\n",
              "    40% {\n",
              "      border-color: transparent;\n",
              "      border-right-color: var(--fill-color);\n",
              "      border-top-color: var(--fill-color);\n",
              "    }\n",
              "    60% {\n",
              "      border-color: transparent;\n",
              "      border-right-color: var(--fill-color);\n",
              "    }\n",
              "    80% {\n",
              "      border-color: transparent;\n",
              "      border-right-color: var(--fill-color);\n",
              "      border-bottom-color: var(--fill-color);\n",
              "    }\n",
              "    90% {\n",
              "      border-color: transparent;\n",
              "      border-bottom-color: var(--fill-color);\n",
              "    }\n",
              "  }\n",
              "</style>\n",
              "\n",
              "  <script>\n",
              "    async function quickchart(key) {\n",
              "      const quickchartButtonEl =\n",
              "        document.querySelector('#' + key + ' button');\n",
              "      quickchartButtonEl.disabled = true;  // To prevent multiple clicks.\n",
              "      quickchartButtonEl.classList.add('colab-df-spinner');\n",
              "      try {\n",
              "        const charts = await google.colab.kernel.invokeFunction(\n",
              "            'suggestCharts', [key], {});\n",
              "      } catch (error) {\n",
              "        console.error('Error during call to suggestCharts:', error);\n",
              "      }\n",
              "      quickchartButtonEl.classList.remove('colab-df-spinner');\n",
              "      quickchartButtonEl.classList.add('colab-df-quickchart-complete');\n",
              "    }\n",
              "    (() => {\n",
              "      let quickchartButtonEl =\n",
              "        document.querySelector('#df-96645194-e07b-4300-8c6d-33064a620cd9 button');\n",
              "      quickchartButtonEl.style.display =\n",
              "        google.colab.kernel.accessAllowed ? 'block' : 'none';\n",
              "    })();\n",
              "  </script>\n",
              "</div>\n",
              "\n",
              "  <div id=\"id_a97fb9fc-180a-4d4f-b131-2fbf57b8893d\">\n",
              "    <style>\n",
              "      .colab-df-generate {\n",
              "        background-color: #E8F0FE;\n",
              "        border: none;\n",
              "        border-radius: 50%;\n",
              "        cursor: pointer;\n",
              "        display: none;\n",
              "        fill: #1967D2;\n",
              "        height: 32px;\n",
              "        padding: 0 0 0 0;\n",
              "        width: 32px;\n",
              "      }\n",
              "\n",
              "      .colab-df-generate:hover {\n",
              "        background-color: #E2EBFA;\n",
              "        box-shadow: 0px 1px 2px rgba(60, 64, 67, 0.3), 0px 1px 3px 1px rgba(60, 64, 67, 0.15);\n",
              "        fill: #174EA6;\n",
              "      }\n",
              "\n",
              "      [theme=dark] .colab-df-generate {\n",
              "        background-color: #3B4455;\n",
              "        fill: #D2E3FC;\n",
              "      }\n",
              "\n",
              "      [theme=dark] .colab-df-generate:hover {\n",
              "        background-color: #434B5C;\n",
              "        box-shadow: 0px 1px 3px 1px rgba(0, 0, 0, 0.15);\n",
              "        filter: drop-shadow(0px 1px 2px rgba(0, 0, 0, 0.3));\n",
              "        fill: #FFFFFF;\n",
              "      }\n",
              "    </style>\n",
              "    <button class=\"colab-df-generate\" onclick=\"generateWithVariable('Data1')\"\n",
              "            title=\"Generate code using this dataframe.\"\n",
              "            style=\"display:none;\">\n",
              "\n",
              "  <svg xmlns=\"http://www.w3.org/2000/svg\" height=\"24px\"viewBox=\"0 0 24 24\"\n",
              "       width=\"24px\">\n",
              "    <path d=\"M7,19H8.4L18.45,9,17,7.55,7,17.6ZM5,21V16.75L18.45,3.32a2,2,0,0,1,2.83,0l1.4,1.43a1.91,1.91,0,0,1,.58,1.4,1.91,1.91,0,0,1-.58,1.4L9.25,21ZM18.45,9,17,7.55Zm-12,3A5.31,5.31,0,0,0,4.9,8.1,5.31,5.31,0,0,0,1,6.5,5.31,5.31,0,0,0,4.9,4.9,5.31,5.31,0,0,0,6.5,1,5.31,5.31,0,0,0,8.1,4.9,5.31,5.31,0,0,0,12,6.5,5.46,5.46,0,0,0,6.5,12Z\"/>\n",
              "  </svg>\n",
              "    </button>\n",
              "    <script>\n",
              "      (() => {\n",
              "      const buttonEl =\n",
              "        document.querySelector('#id_a97fb9fc-180a-4d4f-b131-2fbf57b8893d button.colab-df-generate');\n",
              "      buttonEl.style.display =\n",
              "        google.colab.kernel.accessAllowed ? 'block' : 'none';\n",
              "\n",
              "      buttonEl.onclick = () => {\n",
              "        google.colab.notebook.generateWithVariable('Data1');\n",
              "      }\n",
              "      })();\n",
              "    </script>\n",
              "  </div>\n",
              "\n",
              "    </div>\n",
              "  </div>\n"
            ],
            "application/vnd.google.colaboratory.intrinsic+json": {
              "type": "dataframe",
              "variable_name": "Data1",
              "summary": "{\n  \"name\": \"Data1\",\n  \"rows\": 50985,\n  \"fields\": [\n    {\n      \"column\": \"Year\",\n      \"properties\": {\n        \"dtype\": \"number\",\n        \"std\": 3,\n        \"min\": 2013,\n        \"max\": 2023,\n        \"num_unique_values\": 11,\n        \"samples\": [\n          2018,\n          2023,\n          2014\n        ],\n        \"semantic_type\": \"\",\n        \"description\": \"\"\n      }\n    },\n    {\n      \"column\": \"Industry_aggregation_NZSIOC\",\n      \"properties\": {\n        \"dtype\": \"category\",\n        \"num_unique_values\": 3,\n        \"samples\": [\n          \"Level 1\",\n          \"Level 3\",\n          \"Level 4\"\n        ],\n        \"semantic_type\": \"\",\n        \"description\": \"\"\n      }\n    },\n    {\n      \"column\": \"Industry_code_NZSIOC\",\n      \"properties\": {\n        \"dtype\": \"category\",\n        \"num_unique_values\": 139,\n        \"samples\": [\n          \"RS211\",\n          \"FF116\",\n          \"CC522\"\n        ],\n        \"semantic_type\": \"\",\n        \"description\": \"\"\n      }\n    },\n    {\n      \"column\": \"Industry_name_NZSIOC\",\n      \"properties\": {\n        \"dtype\": \"category\",\n        \"num_unique_values\": 119,\n        \"samples\": [\n          \"Department Stores\",\n          \"Legal and Accounting Services\",\n          \"Dairy Cattle Farming\"\n        ],\n        \"semantic_type\": \"\",\n        \"description\": \"\"\n      }\n    },\n    {\n      \"column\": \"Units\",\n      \"properties\": {\n        \"dtype\": \"category\",\n        \"num_unique_values\": 3,\n        \"samples\": [\n          \"Dollars (millions)\",\n          \"Dollars\",\n          \"Percentage\"\n        ],\n        \"semantic_type\": \"\",\n        \"description\": \"\"\n      }\n    },\n    {\n      \"column\": \"Variable_code\",\n      \"properties\": {\n        \"dtype\": \"category\",\n        \"num_unique_values\": 39,\n        \"samples\": [\n          \"H28\",\n          \"H17\",\n          \"H08\"\n        ],\n        \"semantic_type\": \"\",\n        \"description\": \"\"\n      }\n    },\n    {\n      \"column\": \"Variable_name\",\n      \"properties\": {\n        \"dtype\": \"category\",\n        \"num_unique_values\": 41,\n        \"samples\": [\n          \"Total income per employee count\",\n          \"Opening stocks\",\n          \"Salaries and wages paid\"\n        ],\n        \"semantic_type\": \"\",\n        \"description\": \"\"\n      }\n    },\n    {\n      \"column\": \"Variable_category\",\n      \"properties\": {\n        \"dtype\": \"category\",\n        \"num_unique_values\": 3,\n        \"samples\": [\n          \"Financial performance\",\n          \"Financial position\",\n          \"Financial ratios\"\n        ],\n        \"semantic_type\": \"\",\n        \"description\": \"\"\n      }\n    },\n    {\n      \"column\": \"Value\",\n      \"properties\": {\n        \"dtype\": \"category\",\n        \"num_unique_values\": 13673,\n        \"samples\": [\n          \"6221\",\n          \"48,000\",\n          \"24461\"\n        ],\n        \"semantic_type\": \"\",\n        \"description\": \"\"\n      }\n    },\n    {\n      \"column\": \"Industry_code_ANZSIC06\",\n      \"properties\": {\n        \"dtype\": \"category\",\n        \"num_unique_values\": 121,\n        \"samples\": [\n          \"ANZSIC06 groups F331, F332, and F333\",\n          \"ANZSIC06 group F360\",\n          \"ANZSIC06 group A016\"\n        ],\n        \"semantic_type\": \"\",\n        \"description\": \"\"\n      }\n    }\n  ]\n}"
            }
          },
          "metadata": {},
          "execution_count": 27
        }
      ]
    },
    {
      "cell_type": "markdown",
      "source": [
        "6. Write the code to show the number of rows and columns in data frame."
      ],
      "metadata": {
        "id": "8eU75R_1xp3y"
      }
    },
    {
      "cell_type": "code",
      "source": [
        "Data1.shape   #(Column, Rows)"
      ],
      "metadata": {
        "colab": {
          "base_uri": "https://localhost:8080/"
        },
        "id": "Dmf9WgUMxK4G",
        "outputId": "af7b26aa-48f3-484a-8c6f-26355de463d7"
      },
      "execution_count": 29,
      "outputs": [
        {
          "output_type": "execute_result",
          "data": {
            "text/plain": [
              "(50985, 10)"
            ]
          },
          "metadata": {},
          "execution_count": 29
        }
      ]
    },
    {
      "cell_type": "markdown",
      "source": [
        "7. How might you show the first few rows of data frame?"
      ],
      "metadata": {
        "id": "G3vWZNNyxo87"
      }
    },
    {
      "cell_type": "code",
      "source": [
        "# View the first 2 rows\n",
        "print(Data1.head(2))"
      ],
      "metadata": {
        "colab": {
          "base_uri": "https://localhost:8080/"
        },
        "id": "Ef7cK12IxUEt",
        "outputId": "14fff5c3-3d8b-4d30-ca03-1aba259d46dd"
      },
      "execution_count": 32,
      "outputs": [
        {
          "output_type": "stream",
          "name": "stdout",
          "text": [
            "   Year Industry_aggregation_NZSIOC Industry_code_NZSIOC Industry_name_NZSIOC  \\\n",
            "0  2023                     Level 1                99999       All industries   \n",
            "1  2023                     Level 1                99999       All industries   \n",
            "\n",
            "                Units Variable_code  \\\n",
            "0  Dollars (millions)           H01   \n",
            "1  Dollars (millions)           H04   \n",
            "\n",
            "                                     Variable_name      Variable_category  \\\n",
            "0                                     Total income  Financial performance   \n",
            "1  Sales, government funding, grants and subsidies  Financial performance   \n",
            "\n",
            "    Value                             Industry_code_ANZSIC06  \n",
            "0  930995  ANZSIC06 divisions A-S (excluding classes K633...  \n",
            "1  821630  ANZSIC06 divisions A-S (excluding classes K633...  \n"
          ]
        }
      ]
    },
    {
      "cell_type": "markdown",
      "source": [
        "8. If you select a single column from the diamonds Data Frame, what will be the type of the\n",
        "return value?"
      ],
      "metadata": {
        "id": "RHlIAwn5ykoX"
      }
    },
    {
      "cell_type": "code",
      "source": [
        "import pandas as pd\n",
        "\n",
        "# Load the diamonds dataset (from seaborn for example)\n",
        "import seaborn as sns\n",
        "diamonds = sns.load_dataset('diamonds')\n",
        "\n",
        "# Select a single column (e.g., 'price')\n",
        "single_column = diamonds['price']\n",
        "\n",
        "# Check the type of the returned value\n",
        "print(type(single_column))"
      ],
      "metadata": {
        "colab": {
          "base_uri": "https://localhost:8080/"
        },
        "id": "FpHEWZQ4ylNS",
        "outputId": "b58cba0a-6d7d-4263-b5ba-ef08b5c0487a"
      },
      "execution_count": 33,
      "outputs": [
        {
          "output_type": "stream",
          "name": "stdout",
          "text": [
            "<class 'pandas.core.series.Series'>\n"
          ]
        }
      ]
    },
    {
      "cell_type": "markdown",
      "source": [
        "diamonds -> 'price'will return a Series that contains all the values from the 'price' column of the diamonds DataFrame."
      ],
      "metadata": {
        "id": "nXKbfYcM6pW9"
      }
    },
    {
      "cell_type": "markdown",
      "source": [
        "**Matplotlib**"
      ],
      "metadata": {
        "id": "-2QV0iPvzLeL"
      }
    },
    {
      "cell_type": "markdown",
      "source": [
        "9. Create a line plot using the x and y values provided below. Label the y-axis as “Y” and\n",
        "label the x-axis as “X”.\n",
        "x = [3, 4, 5, 6]\n",
        "y = [1.5, 2, 2.5, 3]"
      ],
      "metadata": {
        "id": "kdxYKVERzANG"
      }
    },
    {
      "cell_type": "code",
      "source": [
        "import matplotlib.pyplot as plt\n",
        "\n",
        "x = [3, 4, 5, 6]\n",
        "y = [1.5, 2, 2.5, 3]\n",
        "\n",
        "# Create a line plot\n",
        "plt.plot(x, y)\n",
        "\n",
        "plt.xlabel('X')  # Label for x-axis\n",
        "plt.ylabel('Y')  # Label for y-axis\n",
        "\n",
        "# Set a title for Grapth\n",
        "plt.title('Line Plot of X & Y')\n",
        "\n",
        "plt.show()"
      ],
      "metadata": {
        "colab": {
          "base_uri": "https://localhost:8080/",
          "height": 472
        },
        "id": "ZuJPaPmSzVOW",
        "outputId": "caff41b0-f562-435e-ab78-33833a51812d"
      },
      "execution_count": 38,
      "outputs": [
        {
          "output_type": "display_data",
          "data": {
            "text/plain": [
              "<Figure size 640x480 with 1 Axes>"
            ],
            "image/png": "[encoded data removed]"
          },
          "metadata": {}
        }
      ]
    },
    {
      "cell_type": "markdown",
      "source": [
        "10. Create an array of numbers between 0 and 6 with increments of 0.3 and name its “x”.\n",
        "Then on the same plot, plot x, x², x³, and x⁴. For consistency, use the following style lines\n",
        "respectively, “ro”, “bs”, “g”, and “:”. Lastly, make sure that the x-axis covers 0 to 6, while\n",
        "the y-axis spans from 0 to 125. Do not worry if you are not familiar with the style lines —\n",
        "you will recognize them as soon as you see the plot."
      ],
      "metadata": {
        "id": "4AitjkwPz3Cy"
      }
    },
    {
      "cell_type": "code",
      "source": [
        "import numpy as np\n",
        "import matplotlib.pyplot as plt\n",
        "\n",
        "# Create the array 'x' with numbers between 0 and 6 with increments of 0.3\n",
        "x = np.arange(0, 6.3, 0.3)\n",
        "\n",
        "# Compute x², x³, and x⁴\n",
        "x_squared = x**2\n",
        "x_cubed = x**3\n",
        "x_fourth = x**4\n",
        "\n",
        "# Plotting the functions on the same plot with specified line styles\n",
        "plt.plot(x, x_squared, 'ro', label='x²')  # Red circle markers for x²\n",
        "plt.plot(x, x_cubed, 'bs', label='x³')    # Blue square markers for x³\n",
        "plt.plot(x, x_fourth, 'g', label='x⁴')    # Green solid line for x⁴\n",
        "\n",
        "# Label axes\n",
        "plt.xlabel('X')\n",
        "plt.ylabel('Y')\n",
        "\n",
        "# Set x-axis and y-axis limits\n",
        "plt.xlim(0, 6)   # x-axis range from 0 to 6\n",
        "plt.ylim(0, 125) # y-axis range from 0 to 125\n",
        "\n",
        "# Add a legend to identify the curves\n",
        "plt.legend()\n",
        "\n",
        "plt.show()"
      ],
      "metadata": {
        "colab": {
          "base_uri": "https://localhost:8080/",
          "height": 449
        },
        "id": "FHRsAStGz6KR",
        "outputId": "d4c758fb-31fe-4a4e-c7e5-7ed84908b22a"
      },
      "execution_count": 40,
      "outputs": [
        {
          "output_type": "display_data",
          "data": {
            "text/plain": [
              "<Figure size 640x480 with 1 Axes>"
            ],
            "image/png": "[encoded data removed]"
          },
          "metadata": {}
        }
      ]
    },
    {
      "cell_type": "markdown",
      "source": [
        " 11. Heights and initials of a group of individuals are provided below. Create a bar plot titled\n",
        "“Height Comparison” to compare the heights among this group.\n",
        "height = [179, 155, 191, 152, 188, 177]\n",
        "names = ['QA', 'WB', 'EC', 'RD', 'TE', 'YF']\n"
      ],
      "metadata": {
        "id": "Z1hNcf5b0rYq"
      }
    },
    {
      "cell_type": "code",
      "source": [
        "import matplotlib.pyplot as plt\n",
        "\n",
        "height = [179, 155, 191, 152, 188, 177]\n",
        "names = ['QA', 'WB', 'EC', 'RD', 'TE', 'YF']\n",
        "\n",
        "# Create a bar plot\n",
        "plt.bar(names, height)\n",
        "\n",
        "# Title and labels\n",
        "plt.title('Height Comparison')\n",
        "plt.xlabel('Names')\n",
        "plt.ylabel('Height (cm)')\n",
        "\n",
        "plt.show()"
      ],
      "metadata": {
        "colab": {
          "base_uri": "https://localhost:8080/",
          "height": 472
        },
        "id": "VsmV-N8L0sHh",
        "outputId": "143a7dbd-87cb-4274-e8fb-db1e3428dc62"
      },
      "execution_count": 41,
      "outputs": [
        {
          "output_type": "display_data",
          "data": {
            "text/plain": [
              "<Figure size 640x480 with 1 Axes>"
            ],
            "image/png": "[encoded data removed]"
          },
          "metadata": {}
        }
      ]
    },
    {
      "cell_type": "markdown",
      "source": [
        "12. Plot a histogram of x, where x consists of 100,000 randomly-selected points with a normal\n",
        "distribution (hint: you can use numpy.random.randn() to generate the random points). The\n",
        "histogram should have 10 bins. Look at how the histogram changes when we try 20 and 50\n",
        "bins."
      ],
      "metadata": {
        "id": "f74CnFLY1AZx"
      }
    },
    {
      "cell_type": "code",
      "source": [
        "import numpy as np\n",
        "import matplotlib.pyplot as plt\n",
        "\n",
        "# 100,000 random points from a normal distribution\n",
        "x = np.random.randn(100000)\n",
        "\n",
        "# Ploting the histogram with 10 bins\n",
        "plt.hist(x, bins=10, edgecolor='black')\n",
        "plt.title('Histogram with 10 Bins')\n",
        "plt.xlabel('Value')\n",
        "plt.ylabel('Frequency')\n",
        "plt.show()"
      ],
      "metadata": {
        "colab": {
          "base_uri": "https://localhost:8080/",
          "height": 472
        },
        "id": "KG5o3Y3i1Bo8",
        "outputId": "39d5af3b-3755-4e90-d4bc-80fbb9226a7c"
      },
      "execution_count": 47,
      "outputs": [
        {
          "output_type": "display_data",
          "data": {
            "text/plain": [
              "<Figure size 640x480 with 1 Axes>"
            ],
            "image/png": "[encoded data removed]"
          },
          "metadata": {}
        }
      ]
    },
    {
      "cell_type": "code",
      "source": [
        "# Ploting the histogram with 20 bins\n",
        "plt.hist(x, bins=20, edgecolor='black')\n",
        "plt.title('Histogram with 20 Bins')\n",
        "plt.xlabel('Value')\n",
        "plt.ylabel('Frequency')\n",
        "plt.show()"
      ],
      "metadata": {
        "colab": {
          "base_uri": "https://localhost:8080/",
          "height": 472
        },
        "id": "bhAy3v891QSX",
        "outputId": "049143d3-83ff-4803-8aa5-3143a6ae4b76"
      },
      "execution_count": 48,
      "outputs": [
        {
          "output_type": "display_data",
          "data": {
            "text/plain": [
              "<Figure size 640x480 with 1 Axes>"
            ],
            "image/png": "[encoded data removed]"
          },
          "metadata": {}
        }
      ]
    },
    {
      "cell_type": "code",
      "source": [
        "# Ploting the histogram with 50 bins\n",
        "plt.hist(x, bins=50, edgecolor='black')\n",
        "plt.title('Histogram with 50 Bins')\n",
        "plt.xlabel('Value')\n",
        "plt.ylabel('Frequency')\n",
        "plt.show()"
      ],
      "metadata": {
        "colab": {
          "base_uri": "https://localhost:8080/",
          "height": 472
        },
        "id": "1ekvnXPT7LMx",
        "outputId": "c9039095-3f5e-4d75-f6a7-61c757189509"
      },
      "execution_count": 49,
      "outputs": [
        {
          "output_type": "display_data",
          "data": {
            "text/plain": [
              "<Figure size 640x480 with 1 Axes>"
            ],
            "image/png": "[encoded data removed]"
          },
          "metadata": {}
        }
      ]
    },
    {
      "cell_type": "markdown",
      "source": [
        "**13. What are the features of TensorFlow?**"
      ],
      "metadata": {
        "id": "q2xW5mnz1jtA"
      }
    },
    {
      "cell_type": "markdown",
      "source": [
        "Ans. TensorFlow is a powerful open-source framework developed by Google primarily for machine learning, deep learning, and artificial intelligence tasks. It provides a comprehensive ecosystem to build, train, and deploy machine learning models.\n",
        "\n",
        "Here are the key features of TensorFlow:\n",
        "\n",
        "Flexible Architecture\n",
        "\n",
        "High-level and Low-level APIs\n",
        "\n",
        "Computation Graph\n",
        "\n",
        "Automatic Differentiation\n",
        "\n",
        "Scalability Across CPUs, GPUs, and Distributed Systems\n",
        "\n",
        "Support for Neural Networks and Deep Learning\n",
        "\n",
        "Model Deployment on Multiple Platforms\n",
        "\n",
        "TensorFlow Hub & Pre-trained Models\n",
        "\n",
        "Ecosystem of Tools for Optimization and Deployment\n",
        "\n",
        "Extensibility and Customization"
      ],
      "metadata": {
        "id": "4muBVuAl2ltY"
      }
    },
    {
      "cell_type": "markdown",
      "source": [
        "**14. List a few limitations of TensorFlow.**"
      ],
      "metadata": {
        "id": "kARVMm9d2yuW"
      }
    },
    {
      "cell_type": "markdown",
      "source": [
        "Here are some limitations of TensorFlow:\n",
        "\n",
        "Steep Learning Curve:\n",
        "\n",
        "TensorFlow's low-level API can be challenging for beginners, requiring a deep understanding of the framework to fully utilize its capabilities.\n",
        "\n",
        "Verbose Syntax:\n",
        "\n",
        "While TensorFlow offers flexibility, its syntax can be verbose, especially when compared to higher-level frameworks like Keras.\n",
        "\n",
        "Difficult Debugging:\n",
        "\n",
        "Debugging TensorFlow code can be difficult, especially with the computation graph model, though eager execution has made this easier.\n",
        "\n",
        "Limited Support for Certain Models:\n",
        "\n",
        "TensorFlow might not be as well-suited for all types of models (e.g., some models in research may require custom, low-level optimizations not yet available in TensorFlow).\n",
        "\n",
        "Memory Consumption:\n",
        "\n",
        "TensorFlow can be memory-intensive, especially when training large models on large datasets, which might require specialized hardware to run efficiently.\n",
        "\n",
        "Model Deployment Complexity:\n",
        "\n",
        "Although TensorFlow supports deployment across different platforms, the process can still be complex, especially for mobile or embedded systems with limited resources.\n",
        "\n",
        "Longer Training Time for Some Models:\n",
        "\n",
        "Training large or complex models in TensorFlow might be slower compared to other frameworks like PyTorch, depending on the use case and optimization strategies.\n",
        "\n",
        "Compatibility Issues with Older Versions:\n",
        "\n",
        "Some backward compatibility issues may arise when transitioning between different versions of TensorFlow, requiring additional adjustments to the code.\n",
        "\n",
        "Lack of Built-in Tools for Reinforcement Learning:\n",
        "\n",
        "While TensorFlow supports reinforcement learning, it lacks certain built-in, specialized tools and libraries that other frameworks like OpenAI’s Gym or Ray RLLib provide.\n",
        "\n",
        "Overhead for Simple Models:\n",
        "\n",
        "For smaller, simpler models, TensorFlow may introduce more overhead than necessary, making lighter frameworks a better choice in those cases."
      ],
      "metadata": {
        "id": "BXGTwev42zMQ"
      }
    },
    {
      "cell_type": "markdown",
      "source": [
        "**15. What do you know about supervised and unsupervised machine learning?**"
      ],
      "metadata": {
        "id": "q44NOZnT3iQ6"
      }
    },
    {
      "cell_type": "markdown",
      "source": [
        "**Supervised Machine Learning:**\n",
        "\n",
        "In supervised learning, the model is trained on a labeled dataset, meaning each input data point is paired with a corresponding output label or target. The goal is to learn a mapping from inputs to outputs so that the model can predict the correct label for new, unseen data.\n",
        "\n",
        "Key Characteristics:\n",
        "\n",
        "Labeled Data:\n",
        "Requires a dataset where the input features are associated with correct output labels.\n",
        "\n",
        "Training Process:\n",
        "The model learns by minimizing the difference between predicted and actual labels (using a loss function).\n",
        "\n",
        "Common Algorithms:\n",
        "\n",
        "Regression:\n",
        "Predicting continuous values (e.g., Linear Regression, Decision Trees).\n",
        "Classification: Predicting categorical labels (e.g., Logistic Regression, SVM, KNN, Random Forest, Neural Networks).\n",
        "\n",
        "Applications:\n",
        "Spam email detection, sentiment analysis, stock price prediction, image classification.\n",
        "\n",
        "**Unsupervised Machine Learning:**\n",
        "\n",
        "In unsupervised learning, the model is trained on an unlabeled dataset, meaning no output labels are provided. The model tries to find hidden patterns or structures within the data without any predefined target values.\n",
        "\n",
        "Key Characteristics:\n",
        "\n",
        "Unlabeled Data: The model learns from data that does not have explicit target labels.\n",
        "\n",
        "Training Process: The model identifies underlying patterns, clusters, or relationships in the data.\n",
        "\n",
        "Common Algorithms:\n",
        "\n",
        "Clustering: Grouping similar data points together (e.g., K-Means, DBSCAN, Hierarchical Clustering).\n",
        "Dimensionality Reduction: Reducing the number of features in the data while preserving important information (e.g., PCA, t-SNE).\n",
        "\n",
        "Applications: Customer segmentation, anomaly detection, recommendation systems, data compression.\n",
        "\n",
        "**Summary**:\n",
        "\n",
        "Supervised Learning: Works with labeled data, where the model learns a mapping from inputs to outputs to make predictions.\n",
        "\n",
        "Unsupervised Learning: Works with unlabeled data, where the model uncovers patterns or structures in the data, such as clustering or dimensionality reduction."
      ],
      "metadata": {
        "id": "ZWPp7NlK3lFx"
      }
    }
  ]
}